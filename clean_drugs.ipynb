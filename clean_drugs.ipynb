{
 "cells": [
  {
   "cell_type": "code",
   "execution_count": 1,
   "metadata": {},
   "outputs": [],
   "source": [
    "import os\n",
    "import pandas as pd\n",
    "import numpy as np\n",
    "import json\n",
    "import requests\n",
    "import zipfile\n",
    "import datetime\n",
    "import re\n",
    "from tqdm import tqdm"
   ]
  },
  {
   "cell_type": "code",
   "execution_count": 2,
   "metadata": {},
   "outputs": [
    {
     "name": "stdout",
     "output_type": "stream",
     "text": [
      "173528\n"
     ]
    }
   ],
   "source": [
    "df = pd.read_csv(os.path.join(\"medicine_dataset.csv\"))\n",
    "print(len(df))"
   ]
  },
  {
   "cell_type": "code",
   "execution_count": 4,
   "metadata": {},
   "outputs": [
    {
     "name": "stdout",
     "output_type": "stream",
     "text": [
      "42452\n"
     ]
    }
   ],
   "source": [
    "subset = df.loc[df[\"brand_name\"] == df[\"generic_name\"]]\n",
    "print(len(subset))\n",
    "subset.to_csv(\"no_name_drugs.csv\",index=False)"
   ]
  },
  {
   "cell_type": "code",
   "execution_count": 10,
   "metadata": {},
   "outputs": [
    {
     "name": "stderr",
     "output_type": "stream",
     "text": [
      "205302it [00:12, 16028.26it/s]\n"
     ]
    },
    {
     "name": "stdout",
     "output_type": "stream",
     "text": [
      "8684\n"
     ]
    }
   ],
   "source": [
    "drug_df = pd.read_csv(os.path.join(\"drug\",\"drug_dataset.csv\"))\n",
    "\n",
    "generic = {}\n",
    "generic_dup = {}\n",
    "for i, row in tqdm(drug_df.iterrows()):\n",
    "    try:\n",
    "        gen = row[\"generic_name\"].lower()\n",
    "    except:\n",
    "        continue\n",
    "    if gen not in generic and gen not in generic_dup:\n",
    "        generic[gen] = row[\"id\"]\n",
    "    else:\n",
    "        if gen not in generic_dup:\n",
    "            generic_dup[gen] = [generic[gen], row[\"id\"]]\n",
    "            generic.pop(gen,None)\n",
    "        else:\n",
    "            generic_dup[gen].append(row[\"id\"])\n",
    "print(len(generic_dup))"
   ]
  },
  {
   "cell_type": "code",
   "execution_count": 11,
   "metadata": {},
   "outputs": [
    {
     "name": "stdout",
     "output_type": "stream",
     "text": [
      "8144\n"
     ]
    }
   ],
   "source": [
    "print(len(generic))"
   ]
  },
  {
   "cell_type": "code",
   "execution_count": 12,
   "metadata": {},
   "outputs": [
    {
     "name": "stderr",
     "output_type": "stream",
     "text": [
      "205302it [00:12, 16242.00it/s]\n"
     ]
    },
    {
     "name": "stdout",
     "output_type": "stream",
     "text": [
      "17971\n"
     ]
    }
   ],
   "source": [
    "drug_df = pd.read_csv(os.path.join(\"drug\",\"drug_dataset.csv\"))\n",
    "\n",
    "brand = {}\n",
    "brand_dup = {}\n",
    "for i, row in tqdm(drug_df.iterrows()):\n",
    "    try:\n",
    "        bra = row[\"brand_name\"].lower()\n",
    "    except:\n",
    "        continue\n",
    "    if bra not in brand and bra not in brand_dup:\n",
    "        brand[bra] = row[\"id\"]\n",
    "    else:\n",
    "        if bra not in brand_dup:\n",
    "            brand_dup[bra] = [brand[bra], row[\"id\"]]\n",
    "            brand.pop(bra,None)\n",
    "        else:\n",
    "            brand_dup[bra].append(row[\"id\"])\n",
    "print(len(brand_dup))"
   ]
  },
  {
   "cell_type": "code",
   "execution_count": 13,
   "metadata": {},
   "outputs": [
    {
     "name": "stdout",
     "output_type": "stream",
     "text": [
      "15338\n"
     ]
    }
   ],
   "source": [
    "print(len(brand))"
   ]
  },
  {
   "cell_type": "code",
   "execution_count": 18,
   "metadata": {},
   "outputs": [
    {
     "name": "stdout",
     "output_type": "stream",
     "text": [
      "178555\n"
     ]
    }
   ],
   "source": [
    "drug_df = drug_df.fillna(\"\")\n",
    "drug_df = drug_df.loc[drug_df[\"generic_name\"]!=\"\"]\n",
    "drug_df = drug_df.loc[drug_df[\"brand_name\"]!=\"\"]\n",
    "drug_df[\"drug_name\"] = drug_df[\"brand_name\"].str.lower() + \"---\" + drug_df[\"generic_name\"].str.lower()\n",
    "print(len(drug_df))"
   ]
  },
  {
   "cell_type": "code",
   "execution_count": 20,
   "metadata": {},
   "outputs": [
    {
     "name": "stderr",
     "output_type": "stream",
     "text": [
      "178555it [00:11, 15949.43it/s]\n"
     ]
    },
    {
     "name": "stdout",
     "output_type": "stream",
     "text": [
      "22655\n"
     ]
    }
   ],
   "source": [
    "meds = {}\n",
    "meds_dup = {}\n",
    "for i, row in tqdm(drug_df.iterrows()):\n",
    "    med = row[\"drug_name\"]\n",
    "    if med not in meds and med not in meds_dup:\n",
    "        meds[med] = row[\"id\"]\n",
    "    else:\n",
    "        if med not in meds_dup:\n",
    "            meds_dup[med] = [meds[med], row[\"id\"]]\n",
    "            meds.pop(med,None)\n",
    "        else:\n",
    "            meds_dup[med].append(row[\"id\"])\n",
    "print(len(meds_dup))"
   ]
  },
  {
   "cell_type": "code",
   "execution_count": 21,
   "metadata": {},
   "outputs": [
    {
     "name": "stdout",
     "output_type": "stream",
     "text": [
      "61586\n"
     ]
    }
   ],
   "source": [
    "print(len(meds))"
   ]
  },
  {
   "cell_type": "code",
   "execution_count": null,
   "metadata": {},
   "outputs": [],
   "source": []
  },
  {
   "cell_type": "code",
   "execution_count": 25,
   "metadata": {},
   "outputs": [
    {
     "name": "stdout",
     "output_type": "stream",
     "text": [
      "acetaminophen and codeine phosphate---acetaminophen and codeine phosphate\n",
      "hydrocodone bitartrate and acetaminophen---hydrocodone bitartrate and acetaminophen\n",
      "kids relief---arnica montana\n",
      "labetalol hydrochloride---labetalol hydrochloride\n",
      "kids relief---arsenicum album\n",
      "kids relief---ferrum phosphoricum\n",
      "oxycodone hydrochloride---oxycodone hydrochloride\n",
      "kids relief---drosera\n",
      "kids relief---bryonia\n",
      "kids relief---ipecacuanha\n"
     ]
    }
   ],
   "source": [
    "count = 0\n",
    "for key in meds_dup:\n",
    "    print(key)\n",
    "    count+=1\n",
    "    if count == 10:\n",
    "        break"
   ]
  },
  {
   "cell_type": "code",
   "execution_count": 36,
   "metadata": {},
   "outputs": [
    {
     "name": "stderr",
     "output_type": "stream",
     "text": [
      "223302it [02:31, 1473.58it/s]\n"
     ]
    }
   ],
   "source": [
    "comp_df = pd.read_csv(os.path.join(\"drug\",\"active_ingredient_dataset.csv\"))\n",
    "meds_df = drug_df[[\"id\", \"drug_name\", \"product_type\", \"manufacturer_name\"]]\n",
    "\n",
    "data = {\"id\":[], \"components\":[]}\n",
    "vocab = {}\n",
    "for i, row in tqdm(comp_df.iterrows()):\n",
    "    subset = comp_df.loc[comp_df[\"id\"] == row[\"id\"]]\n",
    "    comps = subset[\"active_ingredient\"].values\n",
    "    if row[\"id\"] not in vocab:\n",
    "        vocab[row[\"id\"]] = len(comps)\n",
    "        data[\"id\"].append(row[\"id\"])\n",
    "        data[\"components\"].append(\", \".join(comps))"
   ]
  },
  {
   "cell_type": "code",
   "execution_count": 43,
   "metadata": {},
   "outputs": [
    {
     "name": "stdout",
     "output_type": "stream",
     "text": [
      "223302\n",
      "124017\n"
     ]
    }
   ],
   "source": [
    "comp_df = pd.read_csv(os.path.join(\"drug\",\"active_ingredient_dataset.csv\"))\n",
    "print(len(comp_df))\n",
    "comp_df = pd.DataFrame.from_dict(data)\n",
    "print(len(comp_df))"
   ]
  },
  {
   "cell_type": "code",
   "execution_count": 53,
   "metadata": {},
   "outputs": [
    {
     "name": "stdout",
     "output_type": "stream",
     "text": [
      "173528\n",
      "   id   brand_name                  generic_name  product_type  \\\n",
      "0   0    Strattera     Atomoxetine hydrochloride             1   \n",
      "1   1  flucytosine                   flucytosine             1   \n",
      "2   2    Theragold                Arnica Montana             0   \n",
      "3   2    Theragold  Melissa Officinalis Seed Oil             0   \n",
      "4   2    Theragold  Calendula Officinalis Flower             0   \n",
      "\n",
      "                manufacturer_name                                 drug_name  \\\n",
      "0           Eli Lilly and Company     strattera---atomoxetine hydrochloride   \n",
      "1  West-Ward Pharmaceuticals Corp                 flucytosine---flucytosine   \n",
      "2     Square One New Zealand Llc.                theragold---arnica montana   \n",
      "3     Square One New Zealand Llc.  theragold---melissa officinalis seed oil   \n",
      "4     Square One New Zealand Llc.  theragold---calendula officinalis flower   \n",
      "\n",
      "                                          components  \n",
      "0                          ATOMOXETINE HYDROCHLORIDE  \n",
      "1                                        FLUCYTOSINE  \n",
      "2  ARNICA MONTANA, MELISSA OFFICINALIS SEED OIL, ...  \n",
      "3  ARNICA MONTANA, MELISSA OFFICINALIS SEED OIL, ...  \n",
      "4  ARNICA MONTANA, MELISSA OFFICINALIS SEED OIL, ...  \n"
     ]
    }
   ],
   "source": [
    "df = drug_df.join(comp_df.set_index('id'), on=\"id\", how=\"inner\")\n",
    "print(len(df))\n",
    "print(df.head())"
   ]
  },
  {
   "cell_type": "code",
   "execution_count": 54,
   "metadata": {},
   "outputs": [],
   "source": [
    "df[\"components\"] = df[\"components\"].str.lower()\n",
    "df[\"brand_name\"] = df[\"brand_name\"].str.lower()\n",
    "df[\"generic_name\"] = df[\"generic_name\"].str.lower()\n",
    "df[\"brand_id\"] = df[\"id\"]\n",
    "df[\"id\"] = np.arange(len(df))\n",
    "df = df[[\"id\", \"brand_id\", \"brand_name\", \"generic_name\", \"components\", \"product_type\", \"manufacturer_name\"]]\n",
    "df.to_csv(\"medicine_dataset.csv\",index=False)"
   ]
  },
  {
   "cell_type": "code",
   "execution_count": null,
   "metadata": {},
   "outputs": [],
   "source": []
  }
 ],
 "metadata": {
  "kernelspec": {
   "display_name": "Python 3",
   "language": "python",
   "name": "python3"
  },
  "language_info": {
   "codemirror_mode": {
    "name": "ipython",
    "version": 3
   },
   "file_extension": ".py",
   "mimetype": "text/x-python",
   "name": "python",
   "nbconvert_exporter": "python",
   "pygments_lexer": "ipython3",
   "version": "3.7.3"
  }
 },
 "nbformat": 4,
 "nbformat_minor": 2
}
